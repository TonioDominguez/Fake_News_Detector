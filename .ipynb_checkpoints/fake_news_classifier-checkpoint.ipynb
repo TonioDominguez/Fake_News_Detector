{
 "cells": [
  {
   "cell_type": "markdown",
   "id": "aa2d62b3-f4ce-420f-b808-0e8a5fae7f36",
   "metadata": {},
   "source": [
    "<h1 style=\"color: #492c68;\">01 | MODELING</h1>"
   ]
  },
  {
   "cell_type": "markdown",
   "id": "ddd33326-ecba-4f49-b0fe-7c65f023a45f",
   "metadata": {
    "tags": []
   },
   "source": [
    "<h2 style=\"color: #327a81;\">Libraries</h2>"
   ]
  },
  {
   "cell_type": "code",
   "execution_count": 1,
   "id": "46b30d60-85ad-4c44-a5eb-770c8df7ea3b",
   "metadata": {
    "tags": []
   },
   "outputs": [],
   "source": [
    "## Basic libraries\n",
    "import pandas as pd # data manipulation\n",
    "import numpy as np # funciones matemáticas\n",
    "\n",
    "## EDA Libraries \n",
    "import matplotlib.pyplot as plt\n",
    "import seaborn as sns\n",
    "\n",
    "## Settings\n",
    "pd.set_option('display.max_columns', None) # display all columns\n",
    "import warnings\n",
    "warnings.filterwarnings('ignore') # ignore warnings"
   ]
  },
  {
   "cell_type": "code",
   "execution_count": 2,
   "id": "8fdbc2a0-8664-4a42-8493-ad4f07ede7d4",
   "metadata": {
    "tags": []
   },
   "outputs": [],
   "source": [
    "## ML models\n",
    "\n",
    "from sklearn.ensemble import RandomForestClassifier\n",
    "from xgboost import XGBClassifier\n",
    "from sklearn.linear_model import LogisticRegression\n",
    "from sklearn.tree import DecisionTreeClassifier\n",
    "from sklearn.naive_bayes import MultinomialNB"
   ]
  },
  {
   "cell_type": "code",
   "execution_count": 3,
   "id": "5becbc67-16f2-40b3-b2b3-9aa4e90ec0d6",
   "metadata": {
    "tags": []
   },
   "outputs": [],
   "source": [
    "# scikit-learn\n",
    "\n",
    "from sklearn.model_selection import train_test_split\n",
    "from sklearn.metrics import accuracy_score, classification_report\n",
    "from sklearn.metrics import confusion_matrix, roc_curve, ConfusionMatrixDisplay, roc_auc_score\n",
    "from sklearn import metrics\n",
    "import pickle"
   ]
  },
  {
   "cell_type": "code",
   "execution_count": 4,
   "id": "b4f9e4fe-3476-4ec6-9b72-63170085c704",
   "metadata": {
    "tags": []
   },
   "outputs": [],
   "source": [
    "# Text Tokenization\n",
    "\n",
    "from sklearn.feature_extraction.text import CountVectorizer"
   ]
  },
  {
   "cell_type": "code",
   "execution_count": 5,
   "id": "1b6adb5a-bf0d-4aa4-bde4-296a3448eda9",
   "metadata": {
    "tags": []
   },
   "outputs": [],
   "source": [
    "# Saving models with pickle\n",
    "\n",
    "import pickle"
   ]
  },
  {
   "cell_type": "markdown",
   "id": "371e51f5-e413-4e90-bfb6-a7e952bb667a",
   "metadata": {},
   "source": [
    "<h2 style=\"color: #327a81;\">Data Extraction</h2>"
   ]
  },
  {
   "cell_type": "code",
   "execution_count": 6,
   "id": "dcac4ecd-5fbc-40de-9018-363266b14bd3",
   "metadata": {
    "tags": []
   },
   "outputs": [],
   "source": [
    "data = pd.read_csv(\"to_modeling.csv\", index_col=0)"
   ]
  },
  {
   "cell_type": "code",
   "execution_count": 7,
   "id": "0ec0e17f-1a5b-4cbf-bf3d-116f48a308cc",
   "metadata": {
    "tags": []
   },
   "outputs": [
    {
     "data": {
      "text/html": [
       "<div>\n",
       "<style scoped>\n",
       "    .dataframe tbody tr th:only-of-type {\n",
       "        vertical-align: middle;\n",
       "    }\n",
       "\n",
       "    .dataframe tbody tr th {\n",
       "        vertical-align: top;\n",
       "    }\n",
       "\n",
       "    .dataframe thead th {\n",
       "        text-align: right;\n",
       "    }\n",
       "</style>\n",
       "<table border=\"1\" class=\"dataframe\">\n",
       "  <thead>\n",
       "    <tr style=\"text-align: right;\">\n",
       "      <th></th>\n",
       "      <th>text</th>\n",
       "      <th>state</th>\n",
       "      <th>type_news</th>\n",
       "      <th>tags</th>\n",
       "      <th>text_ml</th>\n",
       "    </tr>\n",
       "  </thead>\n",
       "  <tbody>\n",
       "    <tr>\n",
       "      <th>0</th>\n",
       "      <td>Estimado contribuyente NHN6NXF, Mandamos este ...</td>\n",
       "      <td>0</td>\n",
       "      <td>Fake</td>\n",
       "      <td>['estimado', 'contribuyente', 'mandamos', 'con...</td>\n",
       "      <td>estimado contribuyente mandamos conocerlo sigu...</td>\n",
       "    </tr>\n",
       "    <tr>\n",
       "      <th>1</th>\n",
       "      <td>El dosier recoge no solo cómo nacieron y se or...</td>\n",
       "      <td>0</td>\n",
       "      <td>Fake</td>\n",
       "      <td>['dosier', 'recoge', 'nacieron', 'organizan', ...</td>\n",
       "      <td>dosier recoge nacieron organizan reúne compend...</td>\n",
       "    </tr>\n",
       "    <tr>\n",
       "      <th>2</th>\n",
       "      <td>Busca un pronunciamiento previo de Iglesias ac...</td>\n",
       "      <td>1</td>\n",
       "      <td>Real</td>\n",
       "      <td>['busca', 'pronunciamiento', 'previo', 'iglesi...</td>\n",
       "      <td>busca pronunciamiento previo iglesias acortand...</td>\n",
       "    </tr>\n",
       "    <tr>\n",
       "      <th>3</th>\n",
       "      <td>Que sabios son los japoneses al: Rechazar el I...</td>\n",
       "      <td>0</td>\n",
       "      <td>Fake</td>\n",
       "      <td>['sabios', 'japoneses', 'rechazar', 'islam', '...</td>\n",
       "      <td>sabios japoneses rechazar islam cristianos hab...</td>\n",
       "    </tr>\n",
       "    <tr>\n",
       "      <th>4</th>\n",
       "      <td>El delegado de Movilidad y Medio Ambiente del ...</td>\n",
       "      <td>1</td>\n",
       "      <td>Real</td>\n",
       "      <td>['delegado', 'movilidad', 'medio', 'ambiente',...</td>\n",
       "      <td>delegado movilidad medio ambiente ayuntamiento...</td>\n",
       "    </tr>\n",
       "  </tbody>\n",
       "</table>\n",
       "</div>"
      ],
      "text/plain": [
       "                                                text  state type_news  \\\n",
       "0  Estimado contribuyente NHN6NXF, Mandamos este ...      0      Fake   \n",
       "1  El dosier recoge no solo cómo nacieron y se or...      0      Fake   \n",
       "2  Busca un pronunciamiento previo de Iglesias ac...      1      Real   \n",
       "3  Que sabios son los japoneses al: Rechazar el I...      0      Fake   \n",
       "4  El delegado de Movilidad y Medio Ambiente del ...      1      Real   \n",
       "\n",
       "                                                tags  \\\n",
       "0  ['estimado', 'contribuyente', 'mandamos', 'con...   \n",
       "1  ['dosier', 'recoge', 'nacieron', 'organizan', ...   \n",
       "2  ['busca', 'pronunciamiento', 'previo', 'iglesi...   \n",
       "3  ['sabios', 'japoneses', 'rechazar', 'islam', '...   \n",
       "4  ['delegado', 'movilidad', 'medio', 'ambiente',...   \n",
       "\n",
       "                                             text_ml  \n",
       "0  estimado contribuyente mandamos conocerlo sigu...  \n",
       "1  dosier recoge nacieron organizan reúne compend...  \n",
       "2  busca pronunciamiento previo iglesias acortand...  \n",
       "3  sabios japoneses rechazar islam cristianos hab...  \n",
       "4  delegado movilidad medio ambiente ayuntamiento...  "
      ]
     },
     "execution_count": 7,
     "metadata": {},
     "output_type": "execute_result"
    }
   ],
   "source": [
    "data.head(5)"
   ]
  },
  {
   "cell_type": "code",
   "execution_count": 8,
   "id": "c46dafa4-11f5-4a12-9b0e-175a3f8d369e",
   "metadata": {
    "tags": []
   },
   "outputs": [],
   "source": [
    "df = data.copy()"
   ]
  },
  {
   "cell_type": "markdown",
   "id": "12137bc9-5659-4206-8b44-633c5511fa3e",
   "metadata": {},
   "source": [
    "<h2 style=\"color: #327a81;\">Modeling</h2>"
   ]
  },
  {
   "cell_type": "markdown",
   "id": "e35f4993-f79b-4424-b906-ba4bdec8d9a2",
   "metadata": {},
   "source": [
    "<h3 style=\"color: #60b671;\">X-y Split</h3>"
   ]
  },
  {
   "cell_type": "code",
   "execution_count": 9,
   "id": "a8e8a53c-ed34-40c7-b1f1-9943316748bc",
   "metadata": {
    "tags": []
   },
   "outputs": [],
   "source": [
    "X = df[\"text_ml\"]\n",
    "y = df[\"state\"]"
   ]
  },
  {
   "cell_type": "markdown",
   "id": "b8bd94b8-10e2-44ee-b8fd-1440ea161269",
   "metadata": {
    "tags": []
   },
   "source": [
    "<h3 style=\"color: #60b671;\">Train-Test Split</h3>"
   ]
  },
  {
   "cell_type": "code",
   "execution_count": 10,
   "id": "65018510-a7f5-44bc-9dfe-46f5783c1ce4",
   "metadata": {
    "tags": []
   },
   "outputs": [],
   "source": [
    "X_train, X_test, y_train, y_test = train_test_split(X, y, test_size=0.25, random_state=42)"
   ]
  },
  {
   "cell_type": "code",
   "execution_count": 11,
   "id": "19b497fd-6906-4a41-b48e-5c9a3f918aea",
   "metadata": {
    "tags": []
   },
   "outputs": [
    {
     "name": "stdout",
     "output_type": "stream",
     "text": [
      "100% of our data: 2000.\n",
      "75% for training data: 1500.\n",
      "25% for test data: 500.\n"
     ]
    }
   ],
   "source": [
    "print(f'100% of our data: {len(df)}.')\n",
    "print(f'75% for training data: {len(X_train)}.')\n",
    "print(f'25% for test data: {len(X_test)}.')"
   ]
  },
  {
   "cell_type": "markdown",
   "id": "c02a7de3-23c5-4da6-a45d-c9c126c2c433",
   "metadata": {
    "tags": []
   },
   "source": [
    "<h3 style=\"color: #60b671;\">Text Tokenization</h3>"
   ]
  },
  {
   "cell_type": "code",
   "execution_count": 12,
   "id": "2f994bc7-98a5-4001-9fee-121ad73b9c6e",
   "metadata": {
    "tags": []
   },
   "outputs": [],
   "source": [
    "# Tokenization is necesary for preprocessing text to ML\n",
    "# We will use CountVectorizer\n",
    "\n",
    "vect = CountVectorizer()\n",
    "X_train_dtm = vect.fit_transform(X_train) # dtm as document-term matrix\n",
    "X_test_dtm = vect.transform(X_test)"
   ]
  },
  {
   "cell_type": "markdown",
   "id": "4806b9ed-5c42-4b5f-a01b-1841d0852513",
   "metadata": {},
   "source": [
    "<h2 style=\"color: #327a81;\">Machine Learning Models</h2>"
   ]
  },
  {
   "cell_type": "markdown",
   "id": "9223fc47-5c89-407c-814e-996c16c2965e",
   "metadata": {},
   "source": [
    "- Let's try some different models for chosing one with best results"
   ]
  },
  {
   "cell_type": "markdown",
   "id": "dde1624d-8274-4320-9b10-b349b319304f",
   "metadata": {
    "tags": []
   },
   "source": [
    "<h3 style=\"color: #60b671;\">Logistic Regression</h3>"
   ]
  },
  {
   "cell_type": "code",
   "execution_count": 13,
   "id": "cfd6057f-ea61-4816-b7c2-f0fbcc71c5e8",
   "metadata": {
    "tags": []
   },
   "outputs": [
    {
     "data": {
      "text/html": [
       "<style>#sk-container-id-1 {color: black;}#sk-container-id-1 pre{padding: 0;}#sk-container-id-1 div.sk-toggleable {background-color: white;}#sk-container-id-1 label.sk-toggleable__label {cursor: pointer;display: block;width: 100%;margin-bottom: 0;padding: 0.3em;box-sizing: border-box;text-align: center;}#sk-container-id-1 label.sk-toggleable__label-arrow:before {content: \"▸\";float: left;margin-right: 0.25em;color: #696969;}#sk-container-id-1 label.sk-toggleable__label-arrow:hover:before {color: black;}#sk-container-id-1 div.sk-estimator:hover label.sk-toggleable__label-arrow:before {color: black;}#sk-container-id-1 div.sk-toggleable__content {max-height: 0;max-width: 0;overflow: hidden;text-align: left;background-color: #f0f8ff;}#sk-container-id-1 div.sk-toggleable__content pre {margin: 0.2em;color: black;border-radius: 0.25em;background-color: #f0f8ff;}#sk-container-id-1 input.sk-toggleable__control:checked~div.sk-toggleable__content {max-height: 200px;max-width: 100%;overflow: auto;}#sk-container-id-1 input.sk-toggleable__control:checked~label.sk-toggleable__label-arrow:before {content: \"▾\";}#sk-container-id-1 div.sk-estimator input.sk-toggleable__control:checked~label.sk-toggleable__label {background-color: #d4ebff;}#sk-container-id-1 div.sk-label input.sk-toggleable__control:checked~label.sk-toggleable__label {background-color: #d4ebff;}#sk-container-id-1 input.sk-hidden--visually {border: 0;clip: rect(1px 1px 1px 1px);clip: rect(1px, 1px, 1px, 1px);height: 1px;margin: -1px;overflow: hidden;padding: 0;position: absolute;width: 1px;}#sk-container-id-1 div.sk-estimator {font-family: monospace;background-color: #f0f8ff;border: 1px dotted black;border-radius: 0.25em;box-sizing: border-box;margin-bottom: 0.5em;}#sk-container-id-1 div.sk-estimator:hover {background-color: #d4ebff;}#sk-container-id-1 div.sk-parallel-item::after {content: \"\";width: 100%;border-bottom: 1px solid gray;flex-grow: 1;}#sk-container-id-1 div.sk-label:hover label.sk-toggleable__label {background-color: #d4ebff;}#sk-container-id-1 div.sk-serial::before {content: \"\";position: absolute;border-left: 1px solid gray;box-sizing: border-box;top: 0;bottom: 0;left: 50%;z-index: 0;}#sk-container-id-1 div.sk-serial {display: flex;flex-direction: column;align-items: center;background-color: white;padding-right: 0.2em;padding-left: 0.2em;position: relative;}#sk-container-id-1 div.sk-item {position: relative;z-index: 1;}#sk-container-id-1 div.sk-parallel {display: flex;align-items: stretch;justify-content: center;background-color: white;position: relative;}#sk-container-id-1 div.sk-item::before, #sk-container-id-1 div.sk-parallel-item::before {content: \"\";position: absolute;border-left: 1px solid gray;box-sizing: border-box;top: 0;bottom: 0;left: 50%;z-index: -1;}#sk-container-id-1 div.sk-parallel-item {display: flex;flex-direction: column;z-index: 1;position: relative;background-color: white;}#sk-container-id-1 div.sk-parallel-item:first-child::after {align-self: flex-end;width: 50%;}#sk-container-id-1 div.sk-parallel-item:last-child::after {align-self: flex-start;width: 50%;}#sk-container-id-1 div.sk-parallel-item:only-child::after {width: 0;}#sk-container-id-1 div.sk-dashed-wrapped {border: 1px dashed gray;margin: 0 0.4em 0.5em 0.4em;box-sizing: border-box;padding-bottom: 0.4em;background-color: white;}#sk-container-id-1 div.sk-label label {font-family: monospace;font-weight: bold;display: inline-block;line-height: 1.2em;}#sk-container-id-1 div.sk-label-container {text-align: center;}#sk-container-id-1 div.sk-container {/* jupyter's `normalize.less` sets `[hidden] { display: none; }` but bootstrap.min.css set `[hidden] { display: none !important; }` so we also need the `!important` here to be able to override the default hidden behavior on the sphinx rendered scikit-learn.org. See: https://github.com/scikit-learn/scikit-learn/issues/21755 */display: inline-block !important;position: relative;}#sk-container-id-1 div.sk-text-repr-fallback {display: none;}</style><div id=\"sk-container-id-1\" class=\"sk-top-container\"><div class=\"sk-text-repr-fallback\"><pre>LogisticRegression()</pre><b>In a Jupyter environment, please rerun this cell to show the HTML representation or trust the notebook. <br />On GitHub, the HTML representation is unable to render, please try loading this page with nbviewer.org.</b></div><div class=\"sk-container\" hidden><div class=\"sk-item\"><div class=\"sk-estimator sk-toggleable\"><input class=\"sk-toggleable__control sk-hidden--visually\" id=\"sk-estimator-id-1\" type=\"checkbox\" checked><label for=\"sk-estimator-id-1\" class=\"sk-toggleable__label sk-toggleable__label-arrow\">LogisticRegression</label><div class=\"sk-toggleable__content\"><pre>LogisticRegression()</pre></div></div></div></div></div>"
      ],
      "text/plain": [
       "LogisticRegression()"
      ]
     },
     "execution_count": 13,
     "metadata": {},
     "output_type": "execute_result"
    }
   ],
   "source": [
    "model_LR = LogisticRegression()\n",
    "model_LR.fit(X_train_dtm, y_train)"
   ]
  },
  {
   "cell_type": "code",
   "execution_count": 14,
   "id": "8d326dfb-c240-483c-8114-eb9b4aa4ae21",
   "metadata": {
    "tags": []
   },
   "outputs": [],
   "source": [
    "# Model Validation\n",
    "\n",
    "LR_predictions = model_LR.predict(X_test_dtm)"
   ]
  },
  {
   "cell_type": "code",
   "execution_count": 15,
   "id": "19a2aba9-3c4c-42e3-af61-be4a6eefdf9b",
   "metadata": {
    "tags": []
   },
   "outputs": [
    {
     "name": "stdout",
     "output_type": "stream",
     "text": [
      "              precision    recall  f1-score   support\n",
      "\n",
      "           0       0.75      0.78      0.76       249\n",
      "           1       0.77      0.74      0.75       251\n",
      "\n",
      "    accuracy                           0.76       500\n",
      "   macro avg       0.76      0.76      0.76       500\n",
      "weighted avg       0.76      0.76      0.76       500\n",
      "\n"
     ]
    }
   ],
   "source": [
    "# Metrics for LR\n",
    "\n",
    "print(classification_report(y_test, LR_predictions))"
   ]
  },
  {
   "cell_type": "markdown",
   "id": "a14d8f75-5614-43fe-9673-3292b1d28c25",
   "metadata": {
    "tags": []
   },
   "source": [
    "<h3 style=\"color: #60b671;\">Random Forest</h3>"
   ]
  },
  {
   "cell_type": "code",
   "execution_count": 16,
   "id": "42802123-c156-4422-bda7-e45d2b7eff4c",
   "metadata": {
    "tags": []
   },
   "outputs": [
    {
     "data": {
      "text/html": [
       "<style>#sk-container-id-2 {color: black;}#sk-container-id-2 pre{padding: 0;}#sk-container-id-2 div.sk-toggleable {background-color: white;}#sk-container-id-2 label.sk-toggleable__label {cursor: pointer;display: block;width: 100%;margin-bottom: 0;padding: 0.3em;box-sizing: border-box;text-align: center;}#sk-container-id-2 label.sk-toggleable__label-arrow:before {content: \"▸\";float: left;margin-right: 0.25em;color: #696969;}#sk-container-id-2 label.sk-toggleable__label-arrow:hover:before {color: black;}#sk-container-id-2 div.sk-estimator:hover label.sk-toggleable__label-arrow:before {color: black;}#sk-container-id-2 div.sk-toggleable__content {max-height: 0;max-width: 0;overflow: hidden;text-align: left;background-color: #f0f8ff;}#sk-container-id-2 div.sk-toggleable__content pre {margin: 0.2em;color: black;border-radius: 0.25em;background-color: #f0f8ff;}#sk-container-id-2 input.sk-toggleable__control:checked~div.sk-toggleable__content {max-height: 200px;max-width: 100%;overflow: auto;}#sk-container-id-2 input.sk-toggleable__control:checked~label.sk-toggleable__label-arrow:before {content: \"▾\";}#sk-container-id-2 div.sk-estimator input.sk-toggleable__control:checked~label.sk-toggleable__label {background-color: #d4ebff;}#sk-container-id-2 div.sk-label input.sk-toggleable__control:checked~label.sk-toggleable__label {background-color: #d4ebff;}#sk-container-id-2 input.sk-hidden--visually {border: 0;clip: rect(1px 1px 1px 1px);clip: rect(1px, 1px, 1px, 1px);height: 1px;margin: -1px;overflow: hidden;padding: 0;position: absolute;width: 1px;}#sk-container-id-2 div.sk-estimator {font-family: monospace;background-color: #f0f8ff;border: 1px dotted black;border-radius: 0.25em;box-sizing: border-box;margin-bottom: 0.5em;}#sk-container-id-2 div.sk-estimator:hover {background-color: #d4ebff;}#sk-container-id-2 div.sk-parallel-item::after {content: \"\";width: 100%;border-bottom: 1px solid gray;flex-grow: 1;}#sk-container-id-2 div.sk-label:hover label.sk-toggleable__label {background-color: #d4ebff;}#sk-container-id-2 div.sk-serial::before {content: \"\";position: absolute;border-left: 1px solid gray;box-sizing: border-box;top: 0;bottom: 0;left: 50%;z-index: 0;}#sk-container-id-2 div.sk-serial {display: flex;flex-direction: column;align-items: center;background-color: white;padding-right: 0.2em;padding-left: 0.2em;position: relative;}#sk-container-id-2 div.sk-item {position: relative;z-index: 1;}#sk-container-id-2 div.sk-parallel {display: flex;align-items: stretch;justify-content: center;background-color: white;position: relative;}#sk-container-id-2 div.sk-item::before, #sk-container-id-2 div.sk-parallel-item::before {content: \"\";position: absolute;border-left: 1px solid gray;box-sizing: border-box;top: 0;bottom: 0;left: 50%;z-index: -1;}#sk-container-id-2 div.sk-parallel-item {display: flex;flex-direction: column;z-index: 1;position: relative;background-color: white;}#sk-container-id-2 div.sk-parallel-item:first-child::after {align-self: flex-end;width: 50%;}#sk-container-id-2 div.sk-parallel-item:last-child::after {align-self: flex-start;width: 50%;}#sk-container-id-2 div.sk-parallel-item:only-child::after {width: 0;}#sk-container-id-2 div.sk-dashed-wrapped {border: 1px dashed gray;margin: 0 0.4em 0.5em 0.4em;box-sizing: border-box;padding-bottom: 0.4em;background-color: white;}#sk-container-id-2 div.sk-label label {font-family: monospace;font-weight: bold;display: inline-block;line-height: 1.2em;}#sk-container-id-2 div.sk-label-container {text-align: center;}#sk-container-id-2 div.sk-container {/* jupyter's `normalize.less` sets `[hidden] { display: none; }` but bootstrap.min.css set `[hidden] { display: none !important; }` so we also need the `!important` here to be able to override the default hidden behavior on the sphinx rendered scikit-learn.org. See: https://github.com/scikit-learn/scikit-learn/issues/21755 */display: inline-block !important;position: relative;}#sk-container-id-2 div.sk-text-repr-fallback {display: none;}</style><div id=\"sk-container-id-2\" class=\"sk-top-container\"><div class=\"sk-text-repr-fallback\"><pre>RandomForestClassifier()</pre><b>In a Jupyter environment, please rerun this cell to show the HTML representation or trust the notebook. <br />On GitHub, the HTML representation is unable to render, please try loading this page with nbviewer.org.</b></div><div class=\"sk-container\" hidden><div class=\"sk-item\"><div class=\"sk-estimator sk-toggleable\"><input class=\"sk-toggleable__control sk-hidden--visually\" id=\"sk-estimator-id-2\" type=\"checkbox\" checked><label for=\"sk-estimator-id-2\" class=\"sk-toggleable__label sk-toggleable__label-arrow\">RandomForestClassifier</label><div class=\"sk-toggleable__content\"><pre>RandomForestClassifier()</pre></div></div></div></div></div>"
      ],
      "text/plain": [
       "RandomForestClassifier()"
      ]
     },
     "execution_count": 16,
     "metadata": {},
     "output_type": "execute_result"
    }
   ],
   "source": [
    "model_RF = RandomForestClassifier()\n",
    "model_RF.fit(X_train_dtm, y_train)"
   ]
  },
  {
   "cell_type": "code",
   "execution_count": 17,
   "id": "bdcfe6fe-b07a-4e78-b90d-c832a060901a",
   "metadata": {
    "tags": []
   },
   "outputs": [],
   "source": [
    "# Model Validation\n",
    "\n",
    "RF_predictions = model_RF.predict(X_test_dtm)"
   ]
  },
  {
   "cell_type": "code",
   "execution_count": 18,
   "id": "3cd6045a-8cdf-4803-87e9-c279b054251a",
   "metadata": {
    "tags": []
   },
   "outputs": [
    {
     "name": "stdout",
     "output_type": "stream",
     "text": [
      "              precision    recall  f1-score   support\n",
      "\n",
      "           0       0.66      0.81      0.72       249\n",
      "           1       0.75      0.58      0.66       251\n",
      "\n",
      "    accuracy                           0.69       500\n",
      "   macro avg       0.70      0.69      0.69       500\n",
      "weighted avg       0.70      0.69      0.69       500\n",
      "\n"
     ]
    }
   ],
   "source": [
    "# Metrics for RF\n",
    "\n",
    "print(classification_report(y_test, RF_predictions))"
   ]
  },
  {
   "cell_type": "markdown",
   "id": "6208ebb6-fadc-47d1-b746-dd1badb58443",
   "metadata": {
    "tags": []
   },
   "source": [
    "<h3 style=\"color: #60b671;\">XGBoost</h3>"
   ]
  },
  {
   "cell_type": "code",
   "execution_count": 19,
   "id": "54041d01-c8d9-49c9-b420-6aea6ed7322a",
   "metadata": {
    "tags": []
   },
   "outputs": [
    {
     "data": {
      "text/html": [
       "<style>#sk-container-id-3 {color: black;}#sk-container-id-3 pre{padding: 0;}#sk-container-id-3 div.sk-toggleable {background-color: white;}#sk-container-id-3 label.sk-toggleable__label {cursor: pointer;display: block;width: 100%;margin-bottom: 0;padding: 0.3em;box-sizing: border-box;text-align: center;}#sk-container-id-3 label.sk-toggleable__label-arrow:before {content: \"▸\";float: left;margin-right: 0.25em;color: #696969;}#sk-container-id-3 label.sk-toggleable__label-arrow:hover:before {color: black;}#sk-container-id-3 div.sk-estimator:hover label.sk-toggleable__label-arrow:before {color: black;}#sk-container-id-3 div.sk-toggleable__content {max-height: 0;max-width: 0;overflow: hidden;text-align: left;background-color: #f0f8ff;}#sk-container-id-3 div.sk-toggleable__content pre {margin: 0.2em;color: black;border-radius: 0.25em;background-color: #f0f8ff;}#sk-container-id-3 input.sk-toggleable__control:checked~div.sk-toggleable__content {max-height: 200px;max-width: 100%;overflow: auto;}#sk-container-id-3 input.sk-toggleable__control:checked~label.sk-toggleable__label-arrow:before {content: \"▾\";}#sk-container-id-3 div.sk-estimator input.sk-toggleable__control:checked~label.sk-toggleable__label {background-color: #d4ebff;}#sk-container-id-3 div.sk-label input.sk-toggleable__control:checked~label.sk-toggleable__label {background-color: #d4ebff;}#sk-container-id-3 input.sk-hidden--visually {border: 0;clip: rect(1px 1px 1px 1px);clip: rect(1px, 1px, 1px, 1px);height: 1px;margin: -1px;overflow: hidden;padding: 0;position: absolute;width: 1px;}#sk-container-id-3 div.sk-estimator {font-family: monospace;background-color: #f0f8ff;border: 1px dotted black;border-radius: 0.25em;box-sizing: border-box;margin-bottom: 0.5em;}#sk-container-id-3 div.sk-estimator:hover {background-color: #d4ebff;}#sk-container-id-3 div.sk-parallel-item::after {content: \"\";width: 100%;border-bottom: 1px solid gray;flex-grow: 1;}#sk-container-id-3 div.sk-label:hover label.sk-toggleable__label {background-color: #d4ebff;}#sk-container-id-3 div.sk-serial::before {content: \"\";position: absolute;border-left: 1px solid gray;box-sizing: border-box;top: 0;bottom: 0;left: 50%;z-index: 0;}#sk-container-id-3 div.sk-serial {display: flex;flex-direction: column;align-items: center;background-color: white;padding-right: 0.2em;padding-left: 0.2em;position: relative;}#sk-container-id-3 div.sk-item {position: relative;z-index: 1;}#sk-container-id-3 div.sk-parallel {display: flex;align-items: stretch;justify-content: center;background-color: white;position: relative;}#sk-container-id-3 div.sk-item::before, #sk-container-id-3 div.sk-parallel-item::before {content: \"\";position: absolute;border-left: 1px solid gray;box-sizing: border-box;top: 0;bottom: 0;left: 50%;z-index: -1;}#sk-container-id-3 div.sk-parallel-item {display: flex;flex-direction: column;z-index: 1;position: relative;background-color: white;}#sk-container-id-3 div.sk-parallel-item:first-child::after {align-self: flex-end;width: 50%;}#sk-container-id-3 div.sk-parallel-item:last-child::after {align-self: flex-start;width: 50%;}#sk-container-id-3 div.sk-parallel-item:only-child::after {width: 0;}#sk-container-id-3 div.sk-dashed-wrapped {border: 1px dashed gray;margin: 0 0.4em 0.5em 0.4em;box-sizing: border-box;padding-bottom: 0.4em;background-color: white;}#sk-container-id-3 div.sk-label label {font-family: monospace;font-weight: bold;display: inline-block;line-height: 1.2em;}#sk-container-id-3 div.sk-label-container {text-align: center;}#sk-container-id-3 div.sk-container {/* jupyter's `normalize.less` sets `[hidden] { display: none; }` but bootstrap.min.css set `[hidden] { display: none !important; }` so we also need the `!important` here to be able to override the default hidden behavior on the sphinx rendered scikit-learn.org. See: https://github.com/scikit-learn/scikit-learn/issues/21755 */display: inline-block !important;position: relative;}#sk-container-id-3 div.sk-text-repr-fallback {display: none;}</style><div id=\"sk-container-id-3\" class=\"sk-top-container\"><div class=\"sk-text-repr-fallback\"><pre>XGBClassifier(base_score=None, booster=None, callbacks=None,\n",
       "              colsample_bylevel=None, colsample_bynode=None,\n",
       "              colsample_bytree=None, device=None, early_stopping_rounds=None,\n",
       "              enable_categorical=False, eval_metric=None, feature_types=None,\n",
       "              gamma=None, grow_policy=None, importance_type=None,\n",
       "              interaction_constraints=None, learning_rate=None, max_bin=None,\n",
       "              max_cat_threshold=None, max_cat_to_onehot=None,\n",
       "              max_delta_step=None, max_depth=None, max_leaves=None,\n",
       "              min_child_weight=None, missing=nan, monotone_constraints=None,\n",
       "              multi_strategy=None, n_estimators=None, n_jobs=None,\n",
       "              num_parallel_tree=None, random_state=None, ...)</pre><b>In a Jupyter environment, please rerun this cell to show the HTML representation or trust the notebook. <br />On GitHub, the HTML representation is unable to render, please try loading this page with nbviewer.org.</b></div><div class=\"sk-container\" hidden><div class=\"sk-item\"><div class=\"sk-estimator sk-toggleable\"><input class=\"sk-toggleable__control sk-hidden--visually\" id=\"sk-estimator-id-3\" type=\"checkbox\" checked><label for=\"sk-estimator-id-3\" class=\"sk-toggleable__label sk-toggleable__label-arrow\">XGBClassifier</label><div class=\"sk-toggleable__content\"><pre>XGBClassifier(base_score=None, booster=None, callbacks=None,\n",
       "              colsample_bylevel=None, colsample_bynode=None,\n",
       "              colsample_bytree=None, device=None, early_stopping_rounds=None,\n",
       "              enable_categorical=False, eval_metric=None, feature_types=None,\n",
       "              gamma=None, grow_policy=None, importance_type=None,\n",
       "              interaction_constraints=None, learning_rate=None, max_bin=None,\n",
       "              max_cat_threshold=None, max_cat_to_onehot=None,\n",
       "              max_delta_step=None, max_depth=None, max_leaves=None,\n",
       "              min_child_weight=None, missing=nan, monotone_constraints=None,\n",
       "              multi_strategy=None, n_estimators=None, n_jobs=None,\n",
       "              num_parallel_tree=None, random_state=None, ...)</pre></div></div></div></div></div>"
      ],
      "text/plain": [
       "XGBClassifier(base_score=None, booster=None, callbacks=None,\n",
       "              colsample_bylevel=None, colsample_bynode=None,\n",
       "              colsample_bytree=None, device=None, early_stopping_rounds=None,\n",
       "              enable_categorical=False, eval_metric=None, feature_types=None,\n",
       "              gamma=None, grow_policy=None, importance_type=None,\n",
       "              interaction_constraints=None, learning_rate=None, max_bin=None,\n",
       "              max_cat_threshold=None, max_cat_to_onehot=None,\n",
       "              max_delta_step=None, max_depth=None, max_leaves=None,\n",
       "              min_child_weight=None, missing=nan, monotone_constraints=None,\n",
       "              multi_strategy=None, n_estimators=None, n_jobs=None,\n",
       "              num_parallel_tree=None, random_state=None, ...)"
      ]
     },
     "execution_count": 19,
     "metadata": {},
     "output_type": "execute_result"
    }
   ],
   "source": [
    "model_XG = XGBClassifier()\n",
    "model_XG.fit(X_train_dtm, y_train)"
   ]
  },
  {
   "cell_type": "code",
   "execution_count": 20,
   "id": "d92fe6b2-50c5-4647-b361-e22d43ae18ab",
   "metadata": {
    "tags": []
   },
   "outputs": [],
   "source": [
    "# Model Validation\n",
    "\n",
    "XG_predictions = model_XG.predict(X_test_dtm)"
   ]
  },
  {
   "cell_type": "code",
   "execution_count": 21,
   "id": "8633c568-fe91-4e72-8f4a-9861f1ed14e8",
   "metadata": {
    "tags": []
   },
   "outputs": [
    {
     "name": "stdout",
     "output_type": "stream",
     "text": [
      "              precision    recall  f1-score   support\n",
      "\n",
      "           0       0.64      0.73      0.68       249\n",
      "           1       0.69      0.59      0.63       251\n",
      "\n",
      "    accuracy                           0.66       500\n",
      "   macro avg       0.66      0.66      0.66       500\n",
      "weighted avg       0.66      0.66      0.66       500\n",
      "\n"
     ]
    }
   ],
   "source": [
    "# Metrics for XG\n",
    "\n",
    "print(classification_report(y_test, XG_predictions))"
   ]
  },
  {
   "cell_type": "markdown",
   "id": "3c59dd6d-056a-40dc-b8ad-4f8cdadc0582",
   "metadata": {
    "tags": []
   },
   "source": [
    "<h3 style=\"color: #60b671;\">Decision Trees</h3>"
   ]
  },
  {
   "cell_type": "code",
   "execution_count": 22,
   "id": "47977b4c-c02d-4f9d-8332-aa8127447d77",
   "metadata": {
    "tags": []
   },
   "outputs": [
    {
     "data": {
      "text/html": [
       "<style>#sk-container-id-4 {color: black;}#sk-container-id-4 pre{padding: 0;}#sk-container-id-4 div.sk-toggleable {background-color: white;}#sk-container-id-4 label.sk-toggleable__label {cursor: pointer;display: block;width: 100%;margin-bottom: 0;padding: 0.3em;box-sizing: border-box;text-align: center;}#sk-container-id-4 label.sk-toggleable__label-arrow:before {content: \"▸\";float: left;margin-right: 0.25em;color: #696969;}#sk-container-id-4 label.sk-toggleable__label-arrow:hover:before {color: black;}#sk-container-id-4 div.sk-estimator:hover label.sk-toggleable__label-arrow:before {color: black;}#sk-container-id-4 div.sk-toggleable__content {max-height: 0;max-width: 0;overflow: hidden;text-align: left;background-color: #f0f8ff;}#sk-container-id-4 div.sk-toggleable__content pre {margin: 0.2em;color: black;border-radius: 0.25em;background-color: #f0f8ff;}#sk-container-id-4 input.sk-toggleable__control:checked~div.sk-toggleable__content {max-height: 200px;max-width: 100%;overflow: auto;}#sk-container-id-4 input.sk-toggleable__control:checked~label.sk-toggleable__label-arrow:before {content: \"▾\";}#sk-container-id-4 div.sk-estimator input.sk-toggleable__control:checked~label.sk-toggleable__label {background-color: #d4ebff;}#sk-container-id-4 div.sk-label input.sk-toggleable__control:checked~label.sk-toggleable__label {background-color: #d4ebff;}#sk-container-id-4 input.sk-hidden--visually {border: 0;clip: rect(1px 1px 1px 1px);clip: rect(1px, 1px, 1px, 1px);height: 1px;margin: -1px;overflow: hidden;padding: 0;position: absolute;width: 1px;}#sk-container-id-4 div.sk-estimator {font-family: monospace;background-color: #f0f8ff;border: 1px dotted black;border-radius: 0.25em;box-sizing: border-box;margin-bottom: 0.5em;}#sk-container-id-4 div.sk-estimator:hover {background-color: #d4ebff;}#sk-container-id-4 div.sk-parallel-item::after {content: \"\";width: 100%;border-bottom: 1px solid gray;flex-grow: 1;}#sk-container-id-4 div.sk-label:hover label.sk-toggleable__label {background-color: #d4ebff;}#sk-container-id-4 div.sk-serial::before {content: \"\";position: absolute;border-left: 1px solid gray;box-sizing: border-box;top: 0;bottom: 0;left: 50%;z-index: 0;}#sk-container-id-4 div.sk-serial {display: flex;flex-direction: column;align-items: center;background-color: white;padding-right: 0.2em;padding-left: 0.2em;position: relative;}#sk-container-id-4 div.sk-item {position: relative;z-index: 1;}#sk-container-id-4 div.sk-parallel {display: flex;align-items: stretch;justify-content: center;background-color: white;position: relative;}#sk-container-id-4 div.sk-item::before, #sk-container-id-4 div.sk-parallel-item::before {content: \"\";position: absolute;border-left: 1px solid gray;box-sizing: border-box;top: 0;bottom: 0;left: 50%;z-index: -1;}#sk-container-id-4 div.sk-parallel-item {display: flex;flex-direction: column;z-index: 1;position: relative;background-color: white;}#sk-container-id-4 div.sk-parallel-item:first-child::after {align-self: flex-end;width: 50%;}#sk-container-id-4 div.sk-parallel-item:last-child::after {align-self: flex-start;width: 50%;}#sk-container-id-4 div.sk-parallel-item:only-child::after {width: 0;}#sk-container-id-4 div.sk-dashed-wrapped {border: 1px dashed gray;margin: 0 0.4em 0.5em 0.4em;box-sizing: border-box;padding-bottom: 0.4em;background-color: white;}#sk-container-id-4 div.sk-label label {font-family: monospace;font-weight: bold;display: inline-block;line-height: 1.2em;}#sk-container-id-4 div.sk-label-container {text-align: center;}#sk-container-id-4 div.sk-container {/* jupyter's `normalize.less` sets `[hidden] { display: none; }` but bootstrap.min.css set `[hidden] { display: none !important; }` so we also need the `!important` here to be able to override the default hidden behavior on the sphinx rendered scikit-learn.org. See: https://github.com/scikit-learn/scikit-learn/issues/21755 */display: inline-block !important;position: relative;}#sk-container-id-4 div.sk-text-repr-fallback {display: none;}</style><div id=\"sk-container-id-4\" class=\"sk-top-container\"><div class=\"sk-text-repr-fallback\"><pre>DecisionTreeClassifier()</pre><b>In a Jupyter environment, please rerun this cell to show the HTML representation or trust the notebook. <br />On GitHub, the HTML representation is unable to render, please try loading this page with nbviewer.org.</b></div><div class=\"sk-container\" hidden><div class=\"sk-item\"><div class=\"sk-estimator sk-toggleable\"><input class=\"sk-toggleable__control sk-hidden--visually\" id=\"sk-estimator-id-4\" type=\"checkbox\" checked><label for=\"sk-estimator-id-4\" class=\"sk-toggleable__label sk-toggleable__label-arrow\">DecisionTreeClassifier</label><div class=\"sk-toggleable__content\"><pre>DecisionTreeClassifier()</pre></div></div></div></div></div>"
      ],
      "text/plain": [
       "DecisionTreeClassifier()"
      ]
     },
     "execution_count": 22,
     "metadata": {},
     "output_type": "execute_result"
    }
   ],
   "source": [
    "model_DT = DecisionTreeClassifier()\n",
    "model_DT.fit(X_train_dtm, y_train)"
   ]
  },
  {
   "cell_type": "code",
   "execution_count": 23,
   "id": "4dc03b4e-2981-4c41-808f-fd59f4c90fa8",
   "metadata": {
    "tags": []
   },
   "outputs": [],
   "source": [
    "# Model Validation\n",
    "\n",
    "DT_predictions = model_DT.predict(X_test_dtm)"
   ]
  },
  {
   "cell_type": "code",
   "execution_count": 24,
   "id": "254213c6-df49-41c6-aec6-2029c44fbc53",
   "metadata": {
    "tags": []
   },
   "outputs": [
    {
     "name": "stdout",
     "output_type": "stream",
     "text": [
      "              precision    recall  f1-score   support\n",
      "\n",
      "           0       0.62      0.72      0.67       249\n",
      "           1       0.67      0.56      0.61       251\n",
      "\n",
      "    accuracy                           0.64       500\n",
      "   macro avg       0.65      0.64      0.64       500\n",
      "weighted avg       0.65      0.64      0.64       500\n",
      "\n"
     ]
    }
   ],
   "source": [
    "# Metrics for DT\n",
    "\n",
    "print(classification_report(y_test, DT_predictions))"
   ]
  },
  {
   "cell_type": "markdown",
   "id": "9c016c7b-1278-4771-810f-1cbaf6a593a2",
   "metadata": {
    "tags": []
   },
   "source": [
    "<h3 style=\"color: #60b671;\">Naive Bayes</h3>"
   ]
  },
  {
   "cell_type": "code",
   "execution_count": 25,
   "id": "5f06e426-433d-4d18-85cd-03de339178af",
   "metadata": {
    "tags": []
   },
   "outputs": [
    {
     "data": {
      "text/html": [
       "<style>#sk-container-id-5 {color: black;}#sk-container-id-5 pre{padding: 0;}#sk-container-id-5 div.sk-toggleable {background-color: white;}#sk-container-id-5 label.sk-toggleable__label {cursor: pointer;display: block;width: 100%;margin-bottom: 0;padding: 0.3em;box-sizing: border-box;text-align: center;}#sk-container-id-5 label.sk-toggleable__label-arrow:before {content: \"▸\";float: left;margin-right: 0.25em;color: #696969;}#sk-container-id-5 label.sk-toggleable__label-arrow:hover:before {color: black;}#sk-container-id-5 div.sk-estimator:hover label.sk-toggleable__label-arrow:before {color: black;}#sk-container-id-5 div.sk-toggleable__content {max-height: 0;max-width: 0;overflow: hidden;text-align: left;background-color: #f0f8ff;}#sk-container-id-5 div.sk-toggleable__content pre {margin: 0.2em;color: black;border-radius: 0.25em;background-color: #f0f8ff;}#sk-container-id-5 input.sk-toggleable__control:checked~div.sk-toggleable__content {max-height: 200px;max-width: 100%;overflow: auto;}#sk-container-id-5 input.sk-toggleable__control:checked~label.sk-toggleable__label-arrow:before {content: \"▾\";}#sk-container-id-5 div.sk-estimator input.sk-toggleable__control:checked~label.sk-toggleable__label {background-color: #d4ebff;}#sk-container-id-5 div.sk-label input.sk-toggleable__control:checked~label.sk-toggleable__label {background-color: #d4ebff;}#sk-container-id-5 input.sk-hidden--visually {border: 0;clip: rect(1px 1px 1px 1px);clip: rect(1px, 1px, 1px, 1px);height: 1px;margin: -1px;overflow: hidden;padding: 0;position: absolute;width: 1px;}#sk-container-id-5 div.sk-estimator {font-family: monospace;background-color: #f0f8ff;border: 1px dotted black;border-radius: 0.25em;box-sizing: border-box;margin-bottom: 0.5em;}#sk-container-id-5 div.sk-estimator:hover {background-color: #d4ebff;}#sk-container-id-5 div.sk-parallel-item::after {content: \"\";width: 100%;border-bottom: 1px solid gray;flex-grow: 1;}#sk-container-id-5 div.sk-label:hover label.sk-toggleable__label {background-color: #d4ebff;}#sk-container-id-5 div.sk-serial::before {content: \"\";position: absolute;border-left: 1px solid gray;box-sizing: border-box;top: 0;bottom: 0;left: 50%;z-index: 0;}#sk-container-id-5 div.sk-serial {display: flex;flex-direction: column;align-items: center;background-color: white;padding-right: 0.2em;padding-left: 0.2em;position: relative;}#sk-container-id-5 div.sk-item {position: relative;z-index: 1;}#sk-container-id-5 div.sk-parallel {display: flex;align-items: stretch;justify-content: center;background-color: white;position: relative;}#sk-container-id-5 div.sk-item::before, #sk-container-id-5 div.sk-parallel-item::before {content: \"\";position: absolute;border-left: 1px solid gray;box-sizing: border-box;top: 0;bottom: 0;left: 50%;z-index: -1;}#sk-container-id-5 div.sk-parallel-item {display: flex;flex-direction: column;z-index: 1;position: relative;background-color: white;}#sk-container-id-5 div.sk-parallel-item:first-child::after {align-self: flex-end;width: 50%;}#sk-container-id-5 div.sk-parallel-item:last-child::after {align-self: flex-start;width: 50%;}#sk-container-id-5 div.sk-parallel-item:only-child::after {width: 0;}#sk-container-id-5 div.sk-dashed-wrapped {border: 1px dashed gray;margin: 0 0.4em 0.5em 0.4em;box-sizing: border-box;padding-bottom: 0.4em;background-color: white;}#sk-container-id-5 div.sk-label label {font-family: monospace;font-weight: bold;display: inline-block;line-height: 1.2em;}#sk-container-id-5 div.sk-label-container {text-align: center;}#sk-container-id-5 div.sk-container {/* jupyter's `normalize.less` sets `[hidden] { display: none; }` but bootstrap.min.css set `[hidden] { display: none !important; }` so we also need the `!important` here to be able to override the default hidden behavior on the sphinx rendered scikit-learn.org. See: https://github.com/scikit-learn/scikit-learn/issues/21755 */display: inline-block !important;position: relative;}#sk-container-id-5 div.sk-text-repr-fallback {display: none;}</style><div id=\"sk-container-id-5\" class=\"sk-top-container\"><div class=\"sk-text-repr-fallback\"><pre>MultinomialNB()</pre><b>In a Jupyter environment, please rerun this cell to show the HTML representation or trust the notebook. <br />On GitHub, the HTML representation is unable to render, please try loading this page with nbviewer.org.</b></div><div class=\"sk-container\" hidden><div class=\"sk-item\"><div class=\"sk-estimator sk-toggleable\"><input class=\"sk-toggleable__control sk-hidden--visually\" id=\"sk-estimator-id-5\" type=\"checkbox\" checked><label for=\"sk-estimator-id-5\" class=\"sk-toggleable__label sk-toggleable__label-arrow\">MultinomialNB</label><div class=\"sk-toggleable__content\"><pre>MultinomialNB()</pre></div></div></div></div></div>"
      ],
      "text/plain": [
       "MultinomialNB()"
      ]
     },
     "execution_count": 25,
     "metadata": {},
     "output_type": "execute_result"
    }
   ],
   "source": [
    "model_NB = MultinomialNB()\n",
    "model_NB.fit(X_train_dtm, y_train)"
   ]
  },
  {
   "cell_type": "code",
   "execution_count": 26,
   "id": "0a857e5a-f7ea-4553-844b-8a896b3e90ad",
   "metadata": {
    "tags": []
   },
   "outputs": [],
   "source": [
    "#Model Validation\n",
    "\n",
    "NB_predictions = model_NB.predict(X_test_dtm)"
   ]
  },
  {
   "cell_type": "code",
   "execution_count": 27,
   "id": "3ce15f04-e34c-4778-802f-e96bf92ae499",
   "metadata": {
    "tags": []
   },
   "outputs": [
    {
     "name": "stdout",
     "output_type": "stream",
     "text": [
      "              precision    recall  f1-score   support\n",
      "\n",
      "           0       0.78      0.75      0.76       249\n",
      "           1       0.76      0.79      0.78       251\n",
      "\n",
      "    accuracy                           0.77       500\n",
      "   macro avg       0.77      0.77      0.77       500\n",
      "weighted avg       0.77      0.77      0.77       500\n",
      "\n"
     ]
    }
   ],
   "source": [
    "# Metrics for NB\n",
    "\n",
    "print(classification_report(y_test, NB_predictions))"
   ]
  },
  {
   "cell_type": "markdown",
   "id": "10ecf344-d32d-46b1-8ae3-294d0174f2b3",
   "metadata": {},
   "source": [
    "- Naive Bayes has the best accuracy of all models tested, so it will be the choosen one to finally predict whether the new texts are true or false. "
   ]
  },
  {
   "cell_type": "markdown",
   "id": "77f32dd3-290f-4ede-8282-d79f5fb14cdf",
   "metadata": {},
   "source": [
    "<h2 style=\"color: #327a81;\">Selected Model: Naive Bayes</h2>"
   ]
  },
  {
   "cell_type": "code",
   "execution_count": 28,
   "id": "4c57c885-5e08-459c-99c3-c72381c6367b",
   "metadata": {
    "tags": []
   },
   "outputs": [
    {
     "name": "stdout",
     "output_type": "stream",
     "text": [
      "Test data accuracy:  0.77\n",
      "Train data accuracy:  0.9913\n"
     ]
    }
   ],
   "source": [
    "print(\"Test data accuracy: \",round(model_NB.score(X_test_dtm,y_test),4))\n",
    "print(\"Train data accuracy: \", round(model_NB.score(X_train_dtm, y_train),4))"
   ]
  },
  {
   "cell_type": "markdown",
   "id": "660c76bd-37ea-45ce-bfb6-8b9c15734dbb",
   "metadata": {
    "tags": []
   },
   "source": [
    "<h3 style=\"color: #60b671;\">Confusion Matrix Naive Bayes</h3>"
   ]
  },
  {
   "cell_type": "code",
   "execution_count": 29,
   "id": "c1c37b16-1a10-4f54-9e70-9f53e90ad7c0",
   "metadata": {
    "tags": []
   },
   "outputs": [],
   "source": [
    "cm_nb = confusion_matrix(y_test, NB_predictions)"
   ]
  },
  {
   "cell_type": "code",
   "execution_count": 30,
   "id": "8abd7651-797c-4376-aeb8-c85b6d84633c",
   "metadata": {
    "tags": []
   },
   "outputs": [
    {
     "data": {
      "text/plain": [
       "<Figure size 800x600 with 0 Axes>"
      ]
     },
     "metadata": {},
     "output_type": "display_data"
    },
    {
     "data": {
      "image/png": "[encoded data removed]",
      "text/plain": [
       "<Figure size 640x480 with 2 Axes>"
      ]
     },
     "metadata": {},
     "output_type": "display_data"
    }
   ],
   "source": [
    "disp = ConfusionMatrixDisplay(confusion_matrix=cm_nb)\n",
    "plt.figure(figsize=(8, 6))\n",
    "disp.plot(cmap='viridis')  \n",
    "plt.grid(True)\n",
    "plt.show()"
   ]
  },
  {
   "cell_type": "markdown",
   "id": "8f1f1e10-ec1a-415b-90f2-dac71e021c4d",
   "metadata": {},
   "source": [
    "-  Matrix Confusion gave us good results."
   ]
  },
  {
   "cell_type": "markdown",
   "id": "3c6c23c5-8696-4ba5-a6ec-0694975192fc",
   "metadata": {
    "tags": []
   },
   "source": [
    "<h3 style=\"color: #60b671;\">Roc Curve Naive Bayes</h3>"
   ]
  },
  {
   "cell_type": "code",
   "execution_count": 31,
   "id": "31029fd3-ad09-4ddf-96b9-365f110fad26",
   "metadata": {
    "tags": []
   },
   "outputs": [
    {
     "name": "stdout",
     "output_type": "stream",
     "text": [
      "True Positive Rate: 0.79%\n",
      "False Positive Rate: 0.25%\n",
      "\n"
     ]
    },
    {
     "data": {
      "image/png": "[encoded data removed]",
      "text/plain": [
       "<Figure size 800x600 with 1 Axes>"
      ]
     },
     "metadata": {},
     "output_type": "display_data"
    }
   ],
   "source": [
    "fpr, tpr, thresholds = roc_curve(y_test, NB_predictions, pos_label=1)\n",
    "\n",
    "print(f\"True Positive Rate: {round(tpr[1],2)}%\")\n",
    "print(f\"False Positive Rate: {round(fpr[1],2)}%\")\n",
    "print(\"\")\n",
    "\n",
    "plt.figure(figsize=(8, 6))\n",
    "plt.plot(fpr, tpr, color='orange', lw=2, label='ROC curve')\n",
    "plt.xlabel('False Positive Rate')\n",
    "plt.ylabel('True Positive Rate')\n",
    "plt.title('Receiver Operating Characteristic (ROC) Curve')\n",
    "plt.legend(loc=\"lower right\")\n",
    "plt.grid(True)\n",
    "plt.show()"
   ]
  },
  {
   "cell_type": "markdown",
   "id": "605c2b9c-c621-4dcc-8c42-c4dcb49d974e",
   "metadata": {},
   "source": [
    "<h1 style=\"color: #492c68;\">02 | EXTERNAL TESTING</h1>"
   ]
  },
  {
   "cell_type": "markdown",
   "id": "775b2269-9052-42ed-8b9c-64aca6a33702",
   "metadata": {},
   "source": [
    "<h2 style=\"color: #327a81;\">Data Extraction</h2>"
   ]
  },
  {
   "cell_type": "code",
   "execution_count": 32,
   "id": "e945a697-13bc-476a-9bf1-8b5391f99bd8",
   "metadata": {},
   "outputs": [],
   "source": [
    "# We load a new independent dataset, already preprocessed, in which we know if they are true or false\n",
    "\n",
    "df_test = pd.read_csv(\"to_testing.csv\", index_col=0)"
   ]
  },
  {
   "cell_type": "code",
   "execution_count": 33,
   "id": "80a8fd91-9e52-47b8-bd30-11a3e6e25876",
   "metadata": {
    "tags": []
   },
   "outputs": [
    {
     "data": {
      "text/html": [
       "<div>\n",
       "<style scoped>\n",
       "    .dataframe tbody tr th:only-of-type {\n",
       "        vertical-align: middle;\n",
       "    }\n",
       "\n",
       "    .dataframe tbody tr th {\n",
       "        vertical-align: top;\n",
       "    }\n",
       "\n",
       "    .dataframe thead th {\n",
       "        text-align: right;\n",
       "    }\n",
       "</style>\n",
       "<table border=\"1\" class=\"dataframe\">\n",
       "  <thead>\n",
       "    <tr style=\"text-align: right;\">\n",
       "      <th></th>\n",
       "      <th>class</th>\n",
       "      <th>text</th>\n",
       "      <th>test_tags</th>\n",
       "      <th>test_text</th>\n",
       "    </tr>\n",
       "  </thead>\n",
       "  <tbody>\n",
       "    <tr>\n",
       "      <th>750</th>\n",
       "      <td>True</td>\n",
       "      <td>El presidente del PP, Biel Company, pidió ayer...</td>\n",
       "      <td>['presidente', 'company', 'pidió', 'govern', '...</td>\n",
       "      <td>presidente company pidió govern situación exce...</td>\n",
       "    </tr>\n",
       "    <tr>\n",
       "      <th>91</th>\n",
       "      <td>True</td>\n",
       "      <td>El Gobierno de Cantabria, a través del Instit...</td>\n",
       "      <td>['gobierno', 'cantabria', 'través', 'instituto...</td>\n",
       "      <td>gobierno cantabria través instituto cántabro s...</td>\n",
       "    </tr>\n",
       "    <tr>\n",
       "      <th>1265</th>\n",
       "      <td>True</td>\n",
       "      <td>LAB, sindicato con mayor representación en la ...</td>\n",
       "      <td>['sindicato', 'mayor', 'representación', 'admi...</td>\n",
       "      <td>sindicato mayor representación administración ...</td>\n",
       "    </tr>\n",
       "    <tr>\n",
       "      <th>1392</th>\n",
       "      <td>False</td>\n",
       "      <td>Mi nombre es Alejandro, soy Cardiólogo y socor...</td>\n",
       "      <td>['nombre', 'alejandro', 'cardiólogo', 'socorri...</td>\n",
       "      <td>nombre alejandro cardiólogo socorrista aviso i...</td>\n",
       "    </tr>\n",
       "    <tr>\n",
       "      <th>1269</th>\n",
       "      <td>False</td>\n",
       "      <td>Las autoridades suecas creen que con un día la...</td>\n",
       "      <td>['autoridades', 'suecas', 'creen', 'laboral', ...</td>\n",
       "      <td>autoridades suecas creen laboral corto trabaja...</td>\n",
       "    </tr>\n",
       "    <tr>\n",
       "      <th>444</th>\n",
       "      <td>False</td>\n",
       "      <td>CON DOS COJONES Y ALGO MÁS !!! Una canadiense ...</td>\n",
       "      <td>['cojones', 'canadiense', 'pacifista', 'escrib...</td>\n",
       "      <td>cojones canadiense pacifista escribió autorida...</td>\n",
       "    </tr>\n",
       "    <tr>\n",
       "      <th>765</th>\n",
       "      <td>False</td>\n",
       "      <td>El próximo 23 de marzo el portaaviones ‘Juan C...</td>\n",
       "      <td>['próximo', 'marzo', 'portaaviones', 'carlos',...</td>\n",
       "      <td>próximo marzo portaaviones carlos joyas armada...</td>\n",
       "    </tr>\n",
       "    <tr>\n",
       "      <th>244</th>\n",
       "      <td>False</td>\n",
       "      <td>¿Nos lo acaba de enviar nuestro informático: A...</td>\n",
       "      <td>['acaba', 'enviar', 'informático', 'correos', ...</td>\n",
       "      <td>acaba enviar informático correos electrónicos ...</td>\n",
       "    </tr>\n",
       "    <tr>\n",
       "      <th>14</th>\n",
       "      <td>True</td>\n",
       "      <td>Existe un lugar en Madrid donde las africanas...</td>\n",
       "      <td>['existe', 'lugar', 'madrid', 'africanas', 'pr...</td>\n",
       "      <td>existe lugar madrid africanas propio lugar enc...</td>\n",
       "    </tr>\n",
       "    <tr>\n",
       "      <th>328</th>\n",
       "      <td>True</td>\n",
       "      <td>Alemania, Francia, Portugal, Luxemburgo e Irla...</td>\n",
       "      <td>['alemania', 'francia', 'portugal', 'luxemburg...</td>\n",
       "      <td>alemania francia portugal luxemburgo irlanda c...</td>\n",
       "    </tr>\n",
       "  </tbody>\n",
       "</table>\n",
       "</div>"
      ],
      "text/plain": [
       "      class                                               text  \\\n",
       "750    True  El presidente del PP, Biel Company, pidió ayer...   \n",
       "91     True   El Gobierno de Cantabria, a través del Instit...   \n",
       "1265   True  LAB, sindicato con mayor representación en la ...   \n",
       "1392  False  Mi nombre es Alejandro, soy Cardiólogo y socor...   \n",
       "1269  False  Las autoridades suecas creen que con un día la...   \n",
       "444   False  CON DOS COJONES Y ALGO MÁS !!! Una canadiense ...   \n",
       "765   False  El próximo 23 de marzo el portaaviones ‘Juan C...   \n",
       "244   False  ¿Nos lo acaba de enviar nuestro informático: A...   \n",
       "14     True   Existe un lugar en Madrid donde las africanas...   \n",
       "328    True  Alemania, Francia, Portugal, Luxemburgo e Irla...   \n",
       "\n",
       "                                              test_tags  \\\n",
       "750   ['presidente', 'company', 'pidió', 'govern', '...   \n",
       "91    ['gobierno', 'cantabria', 'través', 'instituto...   \n",
       "1265  ['sindicato', 'mayor', 'representación', 'admi...   \n",
       "1392  ['nombre', 'alejandro', 'cardiólogo', 'socorri...   \n",
       "1269  ['autoridades', 'suecas', 'creen', 'laboral', ...   \n",
       "444   ['cojones', 'canadiense', 'pacifista', 'escrib...   \n",
       "765   ['próximo', 'marzo', 'portaaviones', 'carlos',...   \n",
       "244   ['acaba', 'enviar', 'informático', 'correos', ...   \n",
       "14    ['existe', 'lugar', 'madrid', 'africanas', 'pr...   \n",
       "328   ['alemania', 'francia', 'portugal', 'luxemburg...   \n",
       "\n",
       "                                              test_text  \n",
       "750   presidente company pidió govern situación exce...  \n",
       "91    gobierno cantabria través instituto cántabro s...  \n",
       "1265  sindicato mayor representación administración ...  \n",
       "1392  nombre alejandro cardiólogo socorrista aviso i...  \n",
       "1269  autoridades suecas creen laboral corto trabaja...  \n",
       "444   cojones canadiense pacifista escribió autorida...  \n",
       "765   próximo marzo portaaviones carlos joyas armada...  \n",
       "244   acaba enviar informático correos electrónicos ...  \n",
       "14    existe lugar madrid africanas propio lugar enc...  \n",
       "328   alemania francia portugal luxemburgo irlanda c...  "
      ]
     },
     "execution_count": 33,
     "metadata": {},
     "output_type": "execute_result"
    }
   ],
   "source": [
    "df_test.sample(10)"
   ]
  },
  {
   "cell_type": "markdown",
   "id": "89e83c48-cd2c-4be2-8e1c-3b607c6d748d",
   "metadata": {},
   "source": [
    "<h2 style=\"color: #327a81;\">Applying Naive Bayes Prediction</h2>"
   ]
  },
  {
   "cell_type": "code",
   "execution_count": 34,
   "id": "38fe4c69-9d6e-48b3-a77b-8cf86f8e0230",
   "metadata": {
    "tags": []
   },
   "outputs": [],
   "source": [
    "test = df_test[\"test_text\"]"
   ]
  },
  {
   "cell_type": "code",
   "execution_count": 35,
   "id": "77a159b8-1897-49e9-b40b-7a2f54d8242b",
   "metadata": {
    "tags": []
   },
   "outputs": [],
   "source": [
    "test_dtm = vect.transform(test)"
   ]
  },
  {
   "cell_type": "code",
   "execution_count": 36,
   "id": "60b945e9-a88c-4683-b469-fe0566421c4d",
   "metadata": {
    "tags": []
   },
   "outputs": [],
   "source": [
    "test_predictions = model_NB.predict(test_dtm)"
   ]
  },
  {
   "cell_type": "code",
   "execution_count": 37,
   "id": "cd5615c3-d473-487e-9bf8-1d20ac0d856b",
   "metadata": {
    "tags": []
   },
   "outputs": [
    {
     "data": {
      "text/plain": [
       "array([1, 1, 1, ..., 1, 1, 1], dtype=int64)"
      ]
     },
     "execution_count": 37,
     "metadata": {},
     "output_type": "execute_result"
    }
   ],
   "source": [
    "test_predictions"
   ]
  },
  {
   "cell_type": "code",
   "execution_count": 38,
   "id": "99bcfa05-f3e4-49da-acc2-316335c59047",
   "metadata": {
    "tags": []
   },
   "outputs": [],
   "source": [
    "df_test[\"type_news\"] = test_predictions"
   ]
  },
  {
   "cell_type": "code",
   "execution_count": 39,
   "id": "eb011276-61bc-4603-b974-38e5d7257cdd",
   "metadata": {
    "tags": []
   },
   "outputs": [],
   "source": [
    "df_test[\"type_news\"].replace({1 : \"Real\", 0 : \"Fake\"}, inplace=True)"
   ]
  },
  {
   "cell_type": "code",
   "execution_count": 51,
   "id": "3bf753d3-d12a-4de6-81b3-f25a613f2ae0",
   "metadata": {
    "tags": []
   },
   "outputs": [
    {
     "data": {
      "text/html": [
       "<div>\n",
       "<style scoped>\n",
       "    .dataframe tbody tr th:only-of-type {\n",
       "        vertical-align: middle;\n",
       "    }\n",
       "\n",
       "    .dataframe tbody tr th {\n",
       "        vertical-align: top;\n",
       "    }\n",
       "\n",
       "    .dataframe thead th {\n",
       "        text-align: right;\n",
       "    }\n",
       "</style>\n",
       "<table border=\"1\" class=\"dataframe\">\n",
       "  <thead>\n",
       "    <tr style=\"text-align: right;\">\n",
       "      <th></th>\n",
       "      <th>class</th>\n",
       "      <th>text</th>\n",
       "      <th>test_tags</th>\n",
       "      <th>test_text</th>\n",
       "      <th>type_news</th>\n",
       "    </tr>\n",
       "  </thead>\n",
       "  <tbody>\n",
       "    <tr>\n",
       "      <th>1392</th>\n",
       "      <td>False</td>\n",
       "      <td>Mi nombre es Alejandro, soy Cardiólogo y socor...</td>\n",
       "      <td>['nombre', 'alejandro', 'cardiólogo', 'socorri...</td>\n",
       "      <td>nombre alejandro cardiólogo socorrista aviso i...</td>\n",
       "      <td>Fake</td>\n",
       "    </tr>\n",
       "    <tr>\n",
       "      <th>1779</th>\n",
       "      <td>False</td>\n",
       "      <td>Veis esto?, oís sus gritos?.. Pues no es Áfric...</td>\n",
       "      <td>['gritos', 'áfrica', 'colonia', 'alemania', 'm...</td>\n",
       "      <td>gritos áfrica colonia alemania mujer violada i...</td>\n",
       "      <td>Fake</td>\n",
       "    </tr>\n",
       "    <tr>\n",
       "      <th>762</th>\n",
       "      <td>True</td>\n",
       "      <td>El prior del Valle de los Caídos, Santiago Can...</td>\n",
       "      <td>['prior', 'valle', 'caídos', 'santiago', 'cant...</td>\n",
       "      <td>prior valle caídos santiago cantera resiste ex...</td>\n",
       "      <td>Real</td>\n",
       "    </tr>\n",
       "    <tr>\n",
       "      <th>200</th>\n",
       "      <td>False</td>\n",
       "      <td>Pedro Sánchez tiene un plan maestro de cara a...</td>\n",
       "      <td>['pedro', 'sánchez', 'maestro', 'elecciones', ...</td>\n",
       "      <td>pedro sánchez maestro elecciones avecinan prev...</td>\n",
       "      <td>Fake</td>\n",
       "    </tr>\n",
       "    <tr>\n",
       "      <th>1087</th>\n",
       "      <td>True</td>\n",
       "      <td>La decisión del gobierno valenciano de instala...</td>\n",
       "      <td>['decisión', 'gobierno', 'valenciano', 'instal...</td>\n",
       "      <td>decisión gobierno valenciano instalar puntos c...</td>\n",
       "      <td>Real</td>\n",
       "    </tr>\n",
       "  </tbody>\n",
       "</table>\n",
       "</div>"
      ],
      "text/plain": [
       "      class                                               text  \\\n",
       "1392  False  Mi nombre es Alejandro, soy Cardiólogo y socor...   \n",
       "1779  False  Veis esto?, oís sus gritos?.. Pues no es Áfric...   \n",
       "762    True  El prior del Valle de los Caídos, Santiago Can...   \n",
       "200   False   Pedro Sánchez tiene un plan maestro de cara a...   \n",
       "1087   True  La decisión del gobierno valenciano de instala...   \n",
       "\n",
       "                                              test_tags  \\\n",
       "1392  ['nombre', 'alejandro', 'cardiólogo', 'socorri...   \n",
       "1779  ['gritos', 'áfrica', 'colonia', 'alemania', 'm...   \n",
       "762   ['prior', 'valle', 'caídos', 'santiago', 'cant...   \n",
       "200   ['pedro', 'sánchez', 'maestro', 'elecciones', ...   \n",
       "1087  ['decisión', 'gobierno', 'valenciano', 'instal...   \n",
       "\n",
       "                                              test_text type_news  \n",
       "1392  nombre alejandro cardiólogo socorrista aviso i...      Fake  \n",
       "1779  gritos áfrica colonia alemania mujer violada i...      Fake  \n",
       "762   prior valle caídos santiago cantera resiste ex...      Real  \n",
       "200   pedro sánchez maestro elecciones avecinan prev...      Fake  \n",
       "1087  decisión gobierno valenciano instalar puntos c...      Real  "
      ]
     },
     "execution_count": 51,
     "metadata": {},
     "output_type": "execute_result"
    }
   ],
   "source": [
    "df_test.sample(5)"
   ]
  },
  {
   "cell_type": "code",
   "execution_count": 41,
   "id": "fe4bdaca-c6bd-46fa-9cb0-dbb97cbb0ae0",
   "metadata": {
    "tags": []
   },
   "outputs": [],
   "source": [
    "# Let's check the percentage of true predictions\n",
    "# First filtering by \"Fake News\"\n",
    "\n",
    "df_test_fake = df_test[df_test[\"type_news\"] == \"Fake\"]"
   ]
  },
  {
   "cell_type": "code",
   "execution_count": 42,
   "id": "a65de63a-04b4-48e4-b5ef-6cd7b1c103ed",
   "metadata": {
    "tags": []
   },
   "outputs": [],
   "source": [
    "test_fake_counts = df_test_fake[\"class\"].value_counts()"
   ]
  },
  {
   "cell_type": "code",
   "execution_count": 43,
   "id": "0e9bd4c4-0fe6-4331-88d2-d5e97dad4927",
   "metadata": {
    "tags": []
   },
   "outputs": [
    {
     "data": {
      "text/plain": [
       "class\n",
       "False    925\n",
       "True      53\n",
       "Name: count, dtype: int64"
      ]
     },
     "execution_count": 43,
     "metadata": {},
     "output_type": "execute_result"
    }
   ],
   "source": [
    "test_fake_counts"
   ]
  },
  {
   "cell_type": "code",
   "execution_count": 44,
   "id": "2d62f8ac-1395-4c33-bc44-e18951672d02",
   "metadata": {
    "tags": []
   },
   "outputs": [
    {
     "data": {
      "image/png": "[encoded data removed]",
      "text/plain": [
       "<Figure size 500x500 with 1 Axes>"
      ]
     },
     "metadata": {},
     "output_type": "display_data"
    }
   ],
   "source": [
    "label_names = \"True Fakes\", \"False Fakes\"\n",
    "plt.figure(figsize=(5,5))\n",
    "plt.pie(test_fake_counts, labels=label_names, wedgeprops = {\"linewidth\":1, \"edgecolor\":\"white\"}, \n",
    "        autopct=\"%1.1f%%\", startangle=45, colors=[\"#fde724\", \"#471567\"])\n",
    "plt.title(\"True Fake accuracy for External News\")\n",
    "plt.show()"
   ]
  },
  {
   "cell_type": "code",
   "execution_count": 45,
   "id": "2efa788c-14de-44dd-af41-62115e6c5ef5",
   "metadata": {
    "tags": []
   },
   "outputs": [],
   "source": [
    "# Now check true predictions by \"Real News\"\n",
    "\n",
    "df_test_real = df_test[df_test[\"type_news\"] == \"Real\"]"
   ]
  },
  {
   "cell_type": "code",
   "execution_count": 46,
   "id": "dec603d6-d9ac-4c89-8742-6ded61d1a6b0",
   "metadata": {
    "tags": []
   },
   "outputs": [],
   "source": [
    "test_real_counts = df_test_real[\"class\"].value_counts()"
   ]
  },
  {
   "cell_type": "code",
   "execution_count": 47,
   "id": "cd99e9ef-beae-4f8e-8776-1cce1416e7f8",
   "metadata": {
    "tags": []
   },
   "outputs": [
    {
     "data": {
      "text/plain": [
       "class\n",
       "True     947\n",
       "False     75\n",
       "Name: count, dtype: int64"
      ]
     },
     "execution_count": 47,
     "metadata": {},
     "output_type": "execute_result"
    }
   ],
   "source": [
    "test_real_counts"
   ]
  },
  {
   "cell_type": "code",
   "execution_count": 48,
   "id": "dee0eb66-2230-4e3e-88b0-5d5530396488",
   "metadata": {
    "tags": []
   },
   "outputs": [
    {
     "data": {
      "image/png": "[encoded data removed]",
      "text/plain": [
       "<Figure size 500x500 with 1 Axes>"
      ]
     },
     "metadata": {},
     "output_type": "display_data"
    }
   ],
   "source": [
    "label_names = \"True Reals\", \"False Reals\"\n",
    "plt.figure(figsize=(5,5))\n",
    "plt.pie(test_real_counts, labels=label_names, wedgeprops = {\"linewidth\":1, \"edgecolor\":\"white\"}, \n",
    "        autopct=\"%1.1f%%\", startangle=45, colors=[\"#fde724\", \"#471567\"])\n",
    "plt.title(\"True Real accuracy for External News\")\n",
    "plt.show()"
   ]
  },
  {
   "cell_type": "markdown",
   "id": "0dbd2d8b-d6f3-4733-b410-0f4424c8986e",
   "metadata": {},
   "source": [
    "- After checking real cases of predictions. We obtain an acceptable high percentage of hits to trust our model."
   ]
  },
  {
   "cell_type": "markdown",
   "id": "bc89821e-ce29-4b1b-b76e-907b9193e791",
   "metadata": {},
   "source": [
    "<h1 style=\"color: #492c68;\">03 | SAVING THE MODEL</h1>"
   ]
  },
  {
   "cell_type": "code",
   "execution_count": 49,
   "id": "eee7e7a2-8a6f-4387-929d-9ed881d092c5",
   "metadata": {
    "tags": []
   },
   "outputs": [],
   "source": [
    "## Repasar pickels para salvar modelo"
   ]
  }
 ],
 "metadata": {
  "kernelspec": {
   "display_name": "Python 3 (ipykernel)",
   "language": "python",
   "name": "python3"
  },
  "language_info": {
   "codemirror_mode": {
    "name": "ipython",
    "version": 3
   },
   "file_extension": ".py",
   "mimetype": "text/x-python",
   "name": "python",
   "nbconvert_exporter": "python",
   "pygments_lexer": "ipython3",
   "version": "3.11.5"
  }
 },
 "nbformat": 4,
 "nbformat_minor": 5
}
